{
  "nbformat": 4,
  "nbformat_minor": 0,
  "metadata": {
    "colab": {
      "provenance": [],
      "authorship_tag": "ABX9TyPMCCi2hDfbBMYll8m8NqTH",
      "include_colab_link": true
    },
    "kernelspec": {
      "name": "python3",
      "display_name": "Python 3"
    },
    "language_info": {
      "name": "python"
    }
  },
  "cells": [
    {
      "cell_type": "markdown",
      "metadata": {
        "id": "view-in-github",
        "colab_type": "text"
      },
      "source": [
        "<a href=\"https://colab.research.google.com/github/AoruFernando01/AoruFernando01/blob/main/aula_anotacoes_25052022.ipynb\" target=\"_parent\"><img src=\"https://colab.research.google.com/assets/colab-badge.svg\" alt=\"Open In Colab\"/></a>"
      ]
    },
    {
      "cell_type": "code",
      "execution_count": 12,
      "metadata": {
        "colab": {
          "base_uri": "https://localhost:8080/"
        },
        "id": "xXJRkW5uPjzJ",
        "outputId": "6e350007-c065-44a1-ca04-0610e7e63179"
      },
      "outputs": [
        {
          "output_type": "stream",
          "name": "stdout",
          "text": [
            "Contagem de cada valor presente\n",
            "20    3\n",
            "25    1\n",
            "23    1\n",
            "30    1\n",
            "42    1\n",
            "29    1\n",
            "dtype: int64\n",
            "\n"
          ]
        }
      ],
      "source": [
        "import pandas as pd\n",
        "\n",
        "serie_idades = pd.Series([25, 23, 30, 42, 20, 20, 20, 29], \n",
        "                         index=['Maria', 'João', 'José',\n",
        "                                  'Thiago', 'Tais', 'Pamela', 'Ana', 'Lais'])\n",
        "\n",
        "print(f\"Contagem de cada valor presente\\n{serie_idades.value_counts()}\\n\")\n",
        "\n"
      ]
    },
    {
      "cell_type": "code",
      "source": [
        "serie_idades = pd.Series([25, 23, 30, 42, 20, 20, 20, 27],\n",
        "                        index=['Maria', \"João\", 'Jose',\n",
        "                               'Thiago', 'Tais', 'Pamela', 'Ana', 'Lais'])\n",
        "print(serie_idades)"
      ],
      "metadata": {
        "colab": {
          "base_uri": "https://localhost:8080/"
        },
        "id": "MVbZImN8Q6dI",
        "outputId": "5bad09b1-f20a-404f-9dce-ffd25bd26969"
      },
      "execution_count": 6,
      "outputs": [
        {
          "output_type": "stream",
          "name": "stdout",
          "text": [
            "Maria     25\n",
            "João      23\n",
            "Jose      30\n",
            "Thiago    42\n",
            "Tais      20\n",
            "Pamela    20\n",
            "Ana       20\n",
            "Lais      27\n",
            "dtype: int64\n"
          ]
        }
      ]
    },
    {
      "cell_type": "code",
      "source": [
        "import pandas as pd\n",
        "\n",
        "dados = [['ANAA', 25],\n",
        "         ['SKSS', 35],\n",
        "         ['BBHS', 45],\n",
        "         ['RUNK', 55],\n",
        "         ['STES', 65]]\n",
        "df_idades = pd.DataFrame(dados, columns['Nome', 'Idade'])\n",
        "print(df_idades)"
      ],
      "metadata": {
        "colab": {
          "base_uri": "https://localhost:8080/",
          "height": 218
        },
        "id": "mTVNfbt7TCxj",
        "outputId": "3bc423d9-f8aa-4cf5-d137-2d9dd2db676a"
      },
      "execution_count": 52,
      "outputs": [
        {
          "output_type": "error",
          "ename": "NameError",
          "evalue": "ignored",
          "traceback": [
            "\u001b[0;31m---------------------------------------------------------------------------\u001b[0m",
            "\u001b[0;31mNameError\u001b[0m                                 Traceback (most recent call last)",
            "\u001b[0;32m<ipython-input-52-4611285a0aae>\u001b[0m in \u001b[0;36m<cell line: 8>\u001b[0;34m()\u001b[0m\n\u001b[1;32m      6\u001b[0m          \u001b[0;34m[\u001b[0m\u001b[0;34m'RUNK'\u001b[0m\u001b[0;34m,\u001b[0m \u001b[0;36m55\u001b[0m\u001b[0;34m]\u001b[0m\u001b[0;34m,\u001b[0m\u001b[0;34m\u001b[0m\u001b[0;34m\u001b[0m\u001b[0m\n\u001b[1;32m      7\u001b[0m          ['STES', 65]]\n\u001b[0;32m----> 8\u001b[0;31m \u001b[0mdf_idades\u001b[0m \u001b[0;34m=\u001b[0m \u001b[0mpd\u001b[0m\u001b[0;34m.\u001b[0m\u001b[0mDataFrame\u001b[0m\u001b[0;34m(\u001b[0m\u001b[0mdados\u001b[0m\u001b[0;34m,\u001b[0m \u001b[0mcolumns\u001b[0m\u001b[0;34m[\u001b[0m\u001b[0;34m'Nome'\u001b[0m\u001b[0;34m,\u001b[0m \u001b[0;34m'Idade'\u001b[0m\u001b[0;34m]\u001b[0m\u001b[0;34m)\u001b[0m\u001b[0;34m\u001b[0m\u001b[0;34m\u001b[0m\u001b[0m\n\u001b[0m\u001b[1;32m      9\u001b[0m \u001b[0mprint\u001b[0m\u001b[0;34m(\u001b[0m\u001b[0mdf_idades\u001b[0m\u001b[0;34m)\u001b[0m\u001b[0;34m\u001b[0m\u001b[0;34m\u001b[0m\u001b[0m\n",
            "\u001b[0;31mNameError\u001b[0m: name 'columns' is not defined"
          ]
        }
      ]
    },
    {
      "cell_type": "code",
      "source": [
        "import pandas as pd\n",
        "\n",
        "idades = {'Nome': ['Ana', 'Bob', 'Carla'], 'Idades':[25, 30, 35]}\n",
        "df_idades = pd.DataFrame(idades)\n",
        "\n",
        "df_filtrado = df_idades[df_idades['Idades'] > 28]\n",
        "\n",
        "print(df_filtrado)"
      ],
      "metadata": {
        "colab": {
          "base_uri": "https://localhost:8080/"
        },
        "id": "UPKL8-dJUowj",
        "outputId": "d789a5ce-a875-4f4a-8afa-5fd99d9ad398"
      },
      "execution_count": 22,
      "outputs": [
        {
          "output_type": "stream",
          "name": "stdout",
          "text": [
            "    Nome  Idades\n",
            "1    Bob      30\n",
            "2  Carla      35\n"
          ]
        }
      ]
    },
    {
      "cell_type": "code",
      "source": [
        "import pandas as pd \n",
        "\n",
        "\n",
        "idades = {'Nome':['Ana', 'Bob', 'Carla'], 'Idades':[25, 30, 35]}\n",
        "df_idades = pd.DataFrame(idades)\n",
        "\n",
        "df_idades['Bonus por idade'] = df_idades['Idades'].apply[lambda x: x ** 2]\n",
        "\n",
        "print(df_idades)"
      ],
      "metadata": {
        "colab": {
          "base_uri": "https://localhost:8080/",
          "height": 236
        },
        "id": "vAPaq5P0WV-H",
        "outputId": "3c415fd4-86c8-49a9-ba10-b37adaf319d5"
      },
      "execution_count": 58,
      "outputs": [
        {
          "output_type": "error",
          "ename": "TypeError",
          "evalue": "ignored",
          "traceback": [
            "\u001b[0;31m---------------------------------------------------------------------------\u001b[0m",
            "\u001b[0;31mTypeError\u001b[0m                                 Traceback (most recent call last)",
            "\u001b[0;32m<ipython-input-58-1b3f956ceb04>\u001b[0m in \u001b[0;36m<cell line: 7>\u001b[0;34m()\u001b[0m\n\u001b[1;32m      5\u001b[0m \u001b[0mdf_idades\u001b[0m \u001b[0;34m=\u001b[0m \u001b[0mpd\u001b[0m\u001b[0;34m.\u001b[0m\u001b[0mDataFrame\u001b[0m\u001b[0;34m(\u001b[0m\u001b[0midades\u001b[0m\u001b[0;34m)\u001b[0m\u001b[0;34m\u001b[0m\u001b[0;34m\u001b[0m\u001b[0m\n\u001b[1;32m      6\u001b[0m \u001b[0;34m\u001b[0m\u001b[0m\n\u001b[0;32m----> 7\u001b[0;31m \u001b[0mdf_idades\u001b[0m\u001b[0;34m[\u001b[0m\u001b[0;34m'Bonus por idade'\u001b[0m\u001b[0;34m]\u001b[0m \u001b[0;34m=\u001b[0m \u001b[0mdf_idades\u001b[0m\u001b[0;34m[\u001b[0m\u001b[0;34m'Idades'\u001b[0m\u001b[0;34m]\u001b[0m\u001b[0;34m.\u001b[0m\u001b[0mapply\u001b[0m\u001b[0;34m[\u001b[0m\u001b[0;32mlambda\u001b[0m \u001b[0mx\u001b[0m\u001b[0;34m:\u001b[0m \u001b[0mx\u001b[0m \u001b[0;34m**\u001b[0m \u001b[0;36m2\u001b[0m\u001b[0;34m]\u001b[0m\u001b[0;34m\u001b[0m\u001b[0;34m\u001b[0m\u001b[0m\n\u001b[0m\u001b[1;32m      8\u001b[0m \u001b[0;34m\u001b[0m\u001b[0m\n\u001b[1;32m      9\u001b[0m \u001b[0mprint\u001b[0m\u001b[0;34m(\u001b[0m\u001b[0mdf_idades\u001b[0m\u001b[0;34m)\u001b[0m\u001b[0;34m\u001b[0m\u001b[0;34m\u001b[0m\u001b[0m\n",
            "\u001b[0;31mTypeError\u001b[0m: 'method' object is not subscriptable"
          ]
        }
      ]
    },
    {
      "cell_type": "code",
      "source": [],
      "metadata": {
        "id": "OZhLh3WRb0SV"
      },
      "execution_count": null,
      "outputs": []
    },
    {
      "cell_type": "code",
      "source": [],
      "metadata": {
        "id": "lYDpdTQib3xI"
      },
      "execution_count": null,
      "outputs": []
    },
    {
      "cell_type": "code",
      "source": [
        "import pandas as pd \n",
        "\n",
        "idades = {'Nome': ['Ana', 'Bob', 'Carla'], 'Idades':[25, 30, 35]}\n",
        "df_idades = pd.DataFrame(idades)\n",
        "print(df_idades)\n",
        "print('\\n')\n"
      ],
      "metadata": {
        "colab": {
          "base_uri": "https://localhost:8080/"
        },
        "id": "C_xmlPM_XePa",
        "outputId": "a0d3a664-31b2-460a-9b54-8d597aa4d1da"
      },
      "execution_count": 53,
      "outputs": [
        {
          "output_type": "stream",
          "name": "stdout",
          "text": [
            "    Nome  Idades\n",
            "0    Ana      25\n",
            "1    Bob      30\n",
            "2  Carla      35\n",
            "\n",
            "\n"
          ]
        }
      ]
    },
    {
      "cell_type": "code",
      "source": [
        "import pandas as pd\n",
        "df = {'Nome': ['Ana', 'Bob', 'Carla'], 'Idades': [25, 30, 35]}\n",
        "\n",
        "df_idades = pd.DataFrame(df)\n",
        "print(df_idades)\n",
        "\n",
        "df_idades.drop('Idades', axis=1, inplace=True)\n",
        "print(f'\\n{df_idades}')"
      ],
      "metadata": {
        "colab": {
          "base_uri": "https://localhost:8080/"
        },
        "id": "LouOpR_sXzf1",
        "outputId": "f64f3be8-735c-4255-dfd1-711c6bc73a3a"
      },
      "execution_count": 41,
      "outputs": [
        {
          "output_type": "stream",
          "name": "stdout",
          "text": [
            "    Nome  Idades\n",
            "0    Ana      25\n",
            "1    Bob      30\n",
            "2  Carla      35\n",
            "\n",
            "    Nome\n",
            "0    Ana\n",
            "1    Bob\n",
            "2  Carla\n"
          ]
        }
      ]
    },
    {
      "cell_type": "code",
      "source": [
        "import pandas as pd\n",
        "df = {'Nome': ['Ana', 'Bob', 'Carla'], 'Idades':[25, 30, 35]}\n",
        "\n",
        "df_idades = pd.DataFrame(df)\n",
        "print(df_idades)\n",
        "\n",
        "df_idades.drop(1, axis=0, inplace=True)\n",
        "print(f'\\n{df_idades}')"
      ],
      "metadata": {
        "colab": {
          "base_uri": "https://localhost:8080/"
        },
        "id": "p6rD8VI8YklW",
        "outputId": "c284ab8c-2cd7-48b1-ed92-5349ca27f640"
      },
      "execution_count": 31,
      "outputs": [
        {
          "output_type": "stream",
          "name": "stdout",
          "text": [
            "    Nome  Idades\n",
            "0    Ana      25\n",
            "1    Bob      30\n",
            "2  Carla      35\n",
            "\n",
            "    Nome  Idades\n",
            "0    Ana      25\n",
            "2  Carla      35\n"
          ]
        }
      ]
    },
    {
      "cell_type": "code",
      "source": [
        "import pandas as pd\n",
        "import numpy as np\n",
        "\n",
        "df = {'Nome': ['Ana', 'Bob', 'Carla', 'Rita'], 'Idades':[25, 30, 35, 17]}\n",
        "df_idades = pd.DataFrame(df)\n",
        "print(df_idades)\n",
        "\n",
        "print('\\n')\n",
        "\n",
        "df_idades['Categoria'] = np.where(df_idades['Idades'] >= 18,'Adulto', 'Menor')\n",
        "print(df_idades)"
      ],
      "metadata": {
        "colab": {
          "base_uri": "https://localhost:8080/"
        },
        "id": "ZAzk9FXEVzsY",
        "outputId": "8e59918f-e292-43d1-e139-246c7fbcf850"
      },
      "execution_count": 38,
      "outputs": [
        {
          "output_type": "stream",
          "name": "stdout",
          "text": [
            "    Nome  Idades\n",
            "0    Ana      25\n",
            "1    Bob      30\n",
            "2  Carla      35\n",
            "3   Rita      17\n",
            "\n",
            "\n",
            "    Nome  Idades Categoria\n",
            "0    Ana      25    Adulto\n",
            "1    Bob      30    Adulto\n",
            "2  Carla      35    Adulto\n",
            "3   Rita      17     Menor\n"
          ]
        }
      ]
    },
    {
      "cell_type": "code",
      "source": [
        "import pandas as pd\n",
        "import numpy as np\n",
        "\n",
        "df = {'Nome': ['Ana', 'Bob', 'Carla', 'Rita'],\n",
        "      'Idades':[25, 30, 35, 17]}\n",
        "df_idades = pd.DataFrame(df)\n",
        "\n",
        "df_idades['Categoria'] = np.where(df_idades['Idades'] >= 18, 'Adulto', 'Menor')\n",
        "grupo_categoria = df_idades.groupby('Categoria')['Idades']\n",
        "print(grupo_categoria.groups)"
      ],
      "metadata": {
        "colab": {
          "base_uri": "https://localhost:8080/"
        },
        "id": "bH9B4yRuaGL1",
        "outputId": "74879a4d-bfef-4d24-d6d9-14a521cace7a"
      },
      "execution_count": 40,
      "outputs": [
        {
          "output_type": "stream",
          "name": "stdout",
          "text": [
            "{'Adulto': [0, 1, 2], 'Menor': [3]}\n"
          ]
        }
      ]
    },
    {
      "cell_type": "code",
      "source": [
        "import pandas as pd\n",
        "\n",
        "df = {'salario': [2000, 2500, 1500, 4000, 5000, 3500, 2500]}\n",
        "df_salario = pd.DataFrame(df)\n",
        "\n",
        "média = df_salario['salario'].mean()\n",
        "print('Media aritmetica:', média)\n",
        "\n",
        "mediana = df_salario['salario'].median()\n",
        "print('Mediana;' , mediana)\n",
        "\n",
        "minimo = df_salario['salario'].min()\n",
        "print('Valor minimo:', minimo)"
      ],
      "metadata": {
        "colab": {
          "base_uri": "https://localhost:8080/"
        },
        "id": "ipjQhH2Kb6jw",
        "outputId": "a76068e5-ac47-434b-8987-1251d6c290a3"
      },
      "execution_count": 45,
      "outputs": [
        {
          "output_type": "stream",
          "name": "stdout",
          "text": [
            "Media aritmetica: 3000.0\n",
            "Mediana; 2500.0\n",
            "Valor minimo: 1500\n"
          ]
        }
      ]
    },
    {
      "cell_type": "code",
      "source": [
        "import pandas as pd\n",
        "\n",
        "df = {'salario': [2000, 2500, 1500, 4000, 5000, 3500, 2500]}\n",
        "df_salario = pd.DataFrame(df)\n",
        "\n",
        "quantidade_itens_não_nulos = df_salario['salario'].count()\n",
        "print('Retorna a quantidade de itens não nulos:', quantidade_itens_não_nulos)\n",
        "\n",
        "descricao = df_salario['salario'].describe()\n",
        "print('\\nDescrição estatistica:\\n',descricao)"
      ],
      "metadata": {
        "colab": {
          "base_uri": "https://localhost:8080/"
        },
        "id": "ro30hsERdZG7",
        "outputId": "7ac805ba-7fa8-490a-ac27-7b24dd70f501"
      },
      "execution_count": 47,
      "outputs": [
        {
          "output_type": "stream",
          "name": "stdout",
          "text": [
            "Retorna a quantidade de itens não nulos: 7\n",
            "\n",
            "Descrição estatistica:\n",
            " count       7.000000\n",
            "mean     3000.000000\n",
            "std      1224.744871\n",
            "min      1500.000000\n",
            "25%      2250.000000\n",
            "50%      2500.000000\n",
            "75%      3750.000000\n",
            "max      5000.000000\n",
            "Name: salario, dtype: float64\n"
          ]
        }
      ]
    }
  ]
}