{
  "nbformat": 4,
  "nbformat_minor": 0,
  "metadata": {
    "colab": {
      "provenance": [],
      "authorship_tag": "ABX9TyPCSiqIz+7n7cziRNARgmnt",
      "include_colab_link": true
    },
    "kernelspec": {
      "name": "python3",
      "display_name": "Python 3"
    },
    "language_info": {
      "name": "python"
    }
  },
  "cells": [
    {
      "cell_type": "markdown",
      "metadata": {
        "id": "view-in-github",
        "colab_type": "text"
      },
      "source": [
        "<a href=\"https://colab.research.google.com/github/AoruFernando01/AoruFernando01/blob/main/aula9.ipynb\" target=\"_parent\"><img src=\"https://colab.research.google.com/assets/colab-badge.svg\" alt=\"Open In Colab\"/></a>"
      ]
    },
    {
      "cell_type": "code",
      "execution_count": null,
      "metadata": {
        "colab": {
          "base_uri": "https://localhost:8080/"
        },
        "id": "aj7eY3ZfD0wD",
        "outputId": "5a2d2aad-32ff-4d79-9799-062bd3eb6fb3"
      },
      "outputs": [
        {
          "output_type": "stream",
          "name": "stdout",
          "text": [
            "A equação da curva é 0.06730769230769267x 6.254807692307692\n"
          ]
        }
      ],
      "source": [
        "import numpy as np\n",
        "\n",
        "y = [2,5,6,9,7,7,7,10]\n",
        "x = [5,6,9,3,1,5,6,9]\n",
        "\n",
        "alpha1, alpha2 = np.polyfit(x,y,1)\n",
        "print(f'A equação da curva é {alpha1}x {alpha2}')"
      ]
    },
    {
      "cell_type": "code",
      "source": [
        "corr_coef = np.corrcoef(x, y)[0] [1]\n",
        "\n",
        "print(corr_coef)"
      ],
      "metadata": {
        "colab": {
          "base_uri": "https://localhost:8080/"
        },
        "id": "Oy2_N7I_Ie_w",
        "outputId": "3ce3c8f0-2640-429d-bb89-89ebbbbd8e35"
      },
      "execution_count": null,
      "outputs": [
        {
          "output_type": "stream",
          "name": "stdout",
          "text": [
            "0.07500478362088697\n"
          ]
        }
      ]
    },
    {
      "cell_type": "code",
      "source": [
        " calibre = [47, 40, 30]\n",
        " print(calibre)"
      ],
      "metadata": {
        "colab": {
          "base_uri": "https://localhost:8080/"
        },
        "id": "mOap4oKxMq75",
        "outputId": "16cd4a6c-7107-44af-da10-ad29b5186530"
      },
      "execution_count": null,
      "outputs": [
        {
          "output_type": "stream",
          "name": "stdout",
          "text": [
            "[47, 40, 30]\n"
          ]
        }
      ]
    },
    {
      "cell_type": "code",
      "source": [
        "tupla = ('unico', 'superunico', 'uniquissimo')\n",
        "\n",
        "print(tupla)"
      ],
      "metadata": {
        "colab": {
          "base_uri": "https://localhost:8080/"
        },
        "id": "tje3_tbIOR82",
        "outputId": "137fb151-6fd3-48f9-9615-bb003d88a321"
      },
      "execution_count": null,
      "outputs": [
        {
          "output_type": "stream",
          "name": "stdout",
          "text": [
            "('unico', 'superunico', 'uniquissimo')\n"
          ]
        }
      ]
    },
    {
      "cell_type": "code",
      "source": [
        "dicionario = ['77777-7777', '444444-4444', ' 475647-7777']"
      ],
      "metadata": {
        "id": "Qq6MYYw3QRnK"
      },
      "execution_count": null,
      "outputs": []
    },
    {
      "cell_type": "code",
      "source": [
        "import random\n",
        "\n",
        "x = random.randint(1,10)\n",
        "\n",
        "print(x)"
      ],
      "metadata": {
        "colab": {
          "base_uri": "https://localhost:8080/"
        },
        "id": "pYl2ODnLQvrt",
        "outputId": "237b5922-b09b-4c05-819f-64e9880396ae"
      },
      "execution_count": null,
      "outputs": [
        {
          "output_type": "stream",
          "name": "stdout",
          "text": [
            "8\n"
          ]
        }
      ]
    },
    {
      "cell_type": "code",
      "source": [
        "j = 7\n",
        "f = 7\n",
        "soma_valor = j + f\n",
        "print(soma_valor)"
      ],
      "metadata": {
        "colab": {
          "base_uri": "https://localhost:8080/"
        },
        "id": "ZVUNpcpLRRYJ",
        "outputId": "76dd66e4-bcc3-47b1-cd18-5dfd23ff7078"
      },
      "execution_count": null,
      "outputs": [
        {
          "output_type": "stream",
          "name": "stdout",
          "text": [
            "14\n"
          ]
        }
      ]
    },
    {
      "cell_type": "code",
      "source": [
        "lista = [7, 7, 7]\n",
        "tamanho = len(lista)\n",
        "print(tamanho)"
      ],
      "metadata": {
        "colab": {
          "base_uri": "https://localhost:8080/"
        },
        "id": "i9vRLjkOR3OC",
        "outputId": "9cc60983-56f2-47d0-d02b-dbad1709bd08"
      },
      "execution_count": null,
      "outputs": [
        {
          "output_type": "stream",
          "name": "stdout",
          "text": [
            "3\n"
          ]
        }
      ]
    },
    {
      "cell_type": "code",
      "source": [
        "sks = 10 > 15\n",
        "print(sks)"
      ],
      "metadata": {
        "colab": {
          "base_uri": "https://localhost:8080/"
        },
        "id": "AG6TG_cJSTG-",
        "outputId": "a27173bb-636e-4de2-f0ca-9acf01758095"
      },
      "execution_count": null,
      "outputs": [
        {
          "output_type": "stream",
          "name": "stdout",
          "text": [
            "False\n"
          ]
        }
      ]
    },
    {
      "cell_type": "code",
      "source": [
        "import random as rd \n",
        "RA = 777666\n",
        "rd.seed(RA)\n",
        "lista = [item for item in range(rd.randint(500, 30000))]\n",
        "soma = sum(lista)\n",
        "print(soma)"
      ],
      "metadata": {
        "colab": {
          "base_uri": "https://localhost:8080/"
        },
        "id": "8AB62sS5TmfP",
        "outputId": "6dfc9e83-7069-43ee-da9a-6b0411d1bc93"
      },
      "execution_count": null,
      "outputs": [
        {
          "output_type": "stream",
          "name": "stdout",
          "text": [
            "18383016\n"
          ]
        }
      ]
    },
    {
      "cell_type": "code",
      "source": [
        "import random as rd \n",
        "import numpy as np\n",
        "RA = 421110040\n",
        "rd.seed(RA)\n",
        "minimo, maximo = (rd.randint(2, 5), rd.randint(10,20))\n",
        "lista = np.linspace(minimo, maximo, 5)\n",
        "print(lista)"
      ],
      "metadata": {
        "colab": {
          "base_uri": "https://localhost:8080/"
        },
        "id": "g5kGF_CCT3ed",
        "outputId": "8513d665-1efb-488b-b94b-afc8d8b62116"
      },
      "execution_count": null,
      "outputs": [
        {
          "output_type": "stream",
          "name": "stdout",
          "text": [
            "[ 3.    6.25  9.5  12.75 16.  ]\n"
          ]
        }
      ]
    },
    {
      "cell_type": "code",
      "source": [
        "import numpy as np\n",
        "import random as rd\n",
        "RA= 474732321\n",
        "rd.seed(RA)\n",
        "minimo, maximo = (rd.randint(2,5), rd.randint(6,15))\n",
        "lista = np.array([item%2 for item in range(minimo, maximo)])\n",
        "print(lista)"
      ],
      "metadata": {
        "colab": {
          "base_uri": "https://localhost:8080/"
        },
        "id": "2t7qDHmjVP0z",
        "outputId": "118894ce-4580-4912-e4b8-b9fa69afb10a"
      },
      "execution_count": null,
      "outputs": [
        {
          "output_type": "stream",
          "name": "stdout",
          "text": [
            "[1 0 1 0 1 0 1 0 1 0]\n"
          ]
        }
      ]
    },
    {
      "cell_type": "code",
      "source": [
        "import numpy as np\n",
        "import random as rd\n",
        "RA = 421110040\n",
        "rd.seed(RA)\n",
        "quantidade = rd.randint(10,30)\n",
        "x = np.linspace(0, 30, quantidade)\n",
        "y = np.linspace(15, 45, quantidade)\n",
        "resultado = np.polyfit(x, y, 1)\n",
        "print(resultado)"
      ],
      "metadata": {
        "colab": {
          "base_uri": "https://localhost:8080/"
        },
        "id": "qX-BmlS6WQuv",
        "outputId": "a52e98a5-d562-4169-8191-58f719899c8a"
      },
      "execution_count": null,
      "outputs": [
        {
          "output_type": "stream",
          "name": "stdout",
          "text": [
            "[ 1. 15.]\n"
          ]
        }
      ]
    },
    {
      "cell_type": "code",
      "source": [
        "import numpy as np\n",
        "import random as rd\n",
        "import matplotlib.pyplot as plt\n",
        "RA =  421110040\n",
        "rd.seed(RA)\n",
        "quantidade = rd.randint(10, 30)\n",
        "x = np.linspace(0, 10, quantidade)\n",
        "y = [item*rd.randint(1,5) for item in range(quantidade)]\n",
        "\n",
        "resultado = np.polyfit(x, y , 1)\n",
        "correlação = np.corrcoef(x, y)[0] [1]\n",
        "plt.title(\"Exemplo de Gráfico\")\n",
        "plt.xlabel(\"Eixo X\")\n",
        "plt.ylabel(\"Eixo Y\")\n",
        "plt.plot(x, y, 'ob')\n",
        "resposta = f'y = {resultado[0]:.4f}x {resultado[1]:.4f}'\n",
        "resposta += f'\\nPearson: {correlação:.4f}'\n",
        "plt.text(0.1, 0.9, resposta,\n",
        "              transform=plt.gca().transAxes)\n",
        "plt.show()"
      ],
      "metadata": {
        "id": "aZ99W3c3YWDT",
        "outputId": "c0f72599-8d2e-408e-a86e-9ad97dcf4b6c",
        "colab": {
          "base_uri": "https://localhost:8080/",
          "height": 472
        }
      },
      "execution_count": null,
      "outputs": [
        {
          "output_type": "display_data",
          "data": {
            "text/plain": [
              "<Figure size 640x480 with 1 Axes>"
            ],
            "image/png": "[encoded data removed]"
          },
          "metadata": {}
        }
      ]
    },
    {
      "cell_type": "code",
      "source": [],
      "metadata": {
        "id": "5e1UPUGzY6EB"
      },
      "execution_count": null,
      "outputs": []
    }
  ]
}